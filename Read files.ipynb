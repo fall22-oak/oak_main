{
 "cells": [
  {
   "cell_type": "markdown",
   "id": "b99cf500",
   "metadata": {},
   "source": [
    "## Read files"
   ]
  },
  {
   "cell_type": "code",
   "execution_count": 6,
   "id": "e0cd3d75",
   "metadata": {},
   "outputs": [],
   "source": [
    "import pandas as pd"
   ]
  },
  {
   "cell_type": "code",
   "execution_count": 7,
   "id": "e2c6d9ea",
   "metadata": {},
   "outputs": [],
   "source": [
    "from utils import read_parquet_dataset_from_local"
   ]
  },
  {
   "cell_type": "code",
   "execution_count": 10,
   "id": "52c77264",
   "metadata": {},
   "outputs": [
    {
     "data": {
      "application/vnd.jupyter.widget-view+json": {
       "model_id": "cda4a05aa88346fd85c742ad8661e738",
       "version_major": 2,
       "version_minor": 0
      },
      "text/plain": [
       "Reading dataset with pandas:   0%|          | 0/1 [00:00<?, ?it/s]"
      ]
     },
     "metadata": {},
     "output_type": "display_data"
    }
   ],
   "source": [
    "df = read_parquet_dataset_from_local(path_to_dataset='../train_transactions_contest', num_parts_to_read=1)"
   ]
  },
  {
   "cell_type": "code",
   "execution_count": 11,
   "id": "51998941",
   "metadata": {},
   "outputs": [
    {
     "name": "stdout",
     "output_type": "stream",
     "text": [
      "<class 'pandas.core.frame.DataFrame'>\n",
      "RangeIndex: 5408648 entries, 0 to 5408647\n",
      "Data columns (total 20 columns):\n",
      " #   Column                Dtype  \n",
      "---  ------                -----  \n",
      " 0   app_id                int32  \n",
      " 1   amnt                  float32\n",
      " 2   currency              int32  \n",
      " 3   operation_kind        int32  \n",
      " 4   card_type             int32  \n",
      " 5   operation_type        int32  \n",
      " 6   operation_type_group  int32  \n",
      " 7   ecommerce_flag        int32  \n",
      " 8   payment_system        int32  \n",
      " 9   income_flag           int32  \n",
      " 10  mcc                   int32  \n",
      " 11  country               int32  \n",
      " 12  city                  int32  \n",
      " 13  mcc_category          int32  \n",
      " 14  day_of_week           int32  \n",
      " 15  hour                  int32  \n",
      " 16  days_before           int32  \n",
      " 17  weekofyear            int32  \n",
      " 18  hour_diff             int32  \n",
      " 19  transaction_number    int32  \n",
      "dtypes: float32(1), int32(19)\n",
      "memory usage: 412.6 MB\n"
     ]
    }
   ],
   "source": [
    "df.info()"
   ]
  },
  {
   "cell_type": "code",
   "execution_count": null,
   "id": "ff8b4d8c",
   "metadata": {},
   "outputs": [],
   "source": []
  }
 ],
 "metadata": {
  "kernelspec": {
   "display_name": "Python 3 (ipykernel)",
   "language": "python",
   "name": "python3"
  },
  "language_info": {
   "codemirror_mode": {
    "name": "ipython",
    "version": 3
   },
   "file_extension": ".py",
   "mimetype": "text/x-python",
   "name": "python",
   "nbconvert_exporter": "python",
   "pygments_lexer": "ipython3",
   "version": "3.10.7"
  }
 },
 "nbformat": 4,
 "nbformat_minor": 5
}

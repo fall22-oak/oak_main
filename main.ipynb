{
 "cells": [
  {
   "cell_type": "markdown",
   "id": "93b2f1e2",
   "metadata": {},
   "source": [
    "# Erdos Institute Fall 2022 Project\n",
    "\n",
    "## Credit risk assessment of individuals using time series models, along with the application of recursive neural networks (RNNs)\n",
    "\n",
    "## by Team Oak\n",
    "\n",
    "[Source link](https://ods.ai/competitions/dl-fintech-card-transactions) Get dataset and description there\n",
    "\n",
    "[Link to submit test prediction](https://boosters.pro/championship/alfabattle2_sand/overview) I could not join the competition there at this moment, there's an issue with phone verification. But this is the only way to score test prediction. Maybe I can ask the organizer to provide us with the test ground truth...\n",
    "\n",
    "[Best publicly shared solution](https://github.com/aizakharov94/AlfaBattle_task2)\n",
    "\n",
    "[Organizer's github repo](https://github.com/smirnovevgeny/AlfaBattle2.0) Baselines, helpers and parquet loader from the organizer\n",
    "\n",
    "Related [video](https://www.youtube.com/watch?v=yzV5ZQB850s) and [article](https://habr.com/ru/company/alfa/blog/551130/) from the organizer in Russian\n",
    "\n",
    "Tags: deep learning, neural networks, RNN, transformers, credit scoring, card transactions"
   ]
  },
  {
   "cell_type": "markdown",
   "id": "9aa0e760",
   "metadata": {},
   "source": [
    "Dataset: card transactions from single bank and multiple clients\n",
    "\n",
    "Train dataset (train_transactions_contest): N days\n",
    "\n",
    "Test dataset (test_transactions_contest): following K days\n",
    "\n",
    "Goal: predict client's default using their card transactions history\n",
    "\n",
    "Main metric: AUC ROC\n",
    "\n",
    "Baseline models: logistic regression, gradient boosting"
   ]
  },
  {
   "cell_type": "markdown",
   "id": "21b1fa3a",
   "metadata": {},
   "source": [
    "## Read data"
   ]
  },
  {
   "cell_type": "markdown",
   "id": "0af6af7a",
   "metadata": {},
   "source": [
    "Files:\n",
    "1. train_transactions_contest: train data in parquet format\n",
    "2. test_transactions_contest: test data in parquet format\n",
    "\n",
    "    Features\n",
    "\n",
    "* app_id - request id. Requests are enumerated wrt time, starting with the earliest date \n",
    "* amnt - normalized transaction sum. 0.0 - missed data (?)\n",
    "* currency - currency id\n",
    "* operation_type - card operation type id\n",
    "* operation_type_group - id of a group of a card operation type (e.g., debit card or credit card)\n",
    "* ecommerce_flag - ecommerce flag\n",
    "* payment_system - Payment system type identifier\n",
    "* income_flag - Flag of write-off / deposit of funds to the card\n",
    "* mcc - Unique identifier for the store type\n",
    "* country - transaction country id\n",
    "* city - transaction city id\n",
    "* mcc_category - Transaction store category id\n",
    "* day_of_week - transaction day of week\n",
    "* hour - transaction hour\n",
    "* days_before - day before issuance of credit\n",
    "* weekofyear - transaction week of year\n",
    "* hour_diff - time difference in hours since previous transaction of the same customer\n",
    "* transaction_number - Sequence number of the customer's transaction\n",
    "\n",
    "\n",
    "3. train_target.csv: train input target\n",
    "* app_id\n",
    "* product - product of interest\n",
    "* flag - target, 1 - default happened for the product\n",
    "\n",
    "4. test_target_contest.csv: test input (no target provided!)\n",
    "* app_id\n",
    "* product\n",
    "5. sample_submission.csv: submission example file\n",
    "* app_id\n",
    "* score - model prediction"
   ]
  }
 ],
 "metadata": {
  "kernelspec": {
   "display_name": "Python 3 (ipykernel)",
   "language": "python",
   "name": "python3"
  },
  "language_info": {
   "codemirror_mode": {
    "name": "ipython",
    "version": 3
   },
   "file_extension": ".py",
   "mimetype": "text/x-python",
   "name": "python",
   "nbconvert_exporter": "python",
   "pygments_lexer": "ipython3",
   "version": "3.10.7"
  }
 },
 "nbformat": 4,
 "nbformat_minor": 5
}
